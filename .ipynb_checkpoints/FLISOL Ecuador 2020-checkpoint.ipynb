{
 "cells": [
  {
   "cell_type": "markdown",
   "metadata": {
    "slideshow": {
     "slide_type": "slide"
    }
   },
   "source": [
    "# Hello Hello \n",
    "# FLISOL Ecuador 2020"
   ]
  },
  {
   "cell_type": "markdown",
   "metadata": {
    "slideshow": {
     "slide_type": "slide"
    }
   },
   "source": [
    "<h2 style=\"color: #555; text-align: center;\">Angelica Landazabal</h2>\n",
    "<img src=\"Angelica Landazabal.jpg\" style=\"width: 300px; display: inline-block;\"/>\n",
    "<p style=\"display: inline-block;/* width: 300px; */position: absolute;margin: 40px 50px;font-size: 30px;\">Soy ingeniero en informática y amante de la tecnología.  He participado cómo voluntaria, mentora y speaker en diferentes eventos TIC.  Me gusta enseñar a las personas a entender conceptos sobre programación y diseño (aunque en cocina y karate también :D ); y si no sé la respuesta, ¡no importa! La investigamos en la web ;)</p>"
   ]
  },
  {
   "cell_type": "markdown",
   "metadata": {
    "slideshow": {
     "slide_type": "subslide"
    }
   },
   "source": [
    "<img src=\"HackemLogo.png\" />"
   ]
  },
  {
   "cell_type": "markdown",
   "metadata": {
    "slideshow": {
     "slide_type": "subslide"
    }
   },
   "source": [
    "<img style=\"text-align: center;\" src=\"beca.jpg\" />"
   ]
  },
  {
   "cell_type": "markdown",
   "metadata": {
    "slideshow": {
     "slide_type": "slide"
    }
   },
   "source": [
    "# Applying sentiment analysis to your social network"
   ]
  },
  {
   "cell_type": "markdown",
   "metadata": {
    "slideshow": {
     "slide_type": "fragment"
    }
   },
   "source": [
    "## What is Sentiment Analysis?"
   ]
  },
  {
   "cell_type": "markdown",
   "metadata": {
    "slideshow": {
     "slide_type": "slide"
    }
   },
   "source": [
    "## Natural Languaje Processing ( NLP )\n",
    "Is the study that it try to understand, analyze, interpret and obtain mean of human languaje with a computer to will be used in data science, AI and linguistics.\n",
    "\n",
    "The main idea is perceive of a set of words the intention of its creator."
   ]
  },
  {
   "cell_type": "markdown",
   "metadata": {
    "slideshow": {
     "slide_type": "subslide"
    }
   },
   "source": [
    "### NLP applications:\n",
    "* Translation: Is more used due to global information and understand fastest the text created in another native languaje.\n",
    "* Automatic summarization: the idea is get a reduced version of a text created by extraction or abstraction.\n",
    "* Text clasification:  Usefull to assigment predefined labels with supervised models\n",
    "* Chatbots: A system capable of having a coherent conversation with a human about a specific topic.\n",
    "* Sentiment Analysis: Identify subjective information in texts as judgments or opinions used for companies and famous people that want to be aware of their reputation on the internet"
   ]
  },
  {
   "cell_type": "markdown",
   "metadata": {
    "slideshow": {
     "slide_type": "slide"
    }
   },
   "source": [
    "# Steps for Sentiment Analysis:"
   ]
  },
  {
   "cell_type": "markdown",
   "metadata": {
    "slideshow": {
     "slide_type": "slide"
    }
   },
   "source": [
    "## Extract Data\n",
    "* Tweepy: An easy-to-use Python library for accessing the Twitter API.\n",
    "    \n",
    "* Pandas: is a library providing high-performance, easy-to-use data structures and data analysis tools for the Python programming language."
   ]
  },
  {
   "cell_type": "code",
   "execution_count": 1,
   "metadata": {
    "slideshow": {
     "slide_type": "subslide"
    }
   },
   "outputs": [],
   "source": [
    "import tweepy\n",
    "from tweepy import OAuthHandler"
   ]
  },
  {
   "cell_type": "code",
   "execution_count": 2,
   "metadata": {
    "slideshow": {
     "slide_type": "subslide"
    }
   },
   "outputs": [],
   "source": [
    "import twitterCredentials\n",
    "\n",
    "api_key = twitterCredentials.api_key\n",
    "api_secret = twitterCredentials.api_secret\n",
    "access_token = twitterCredentials.access_token\n",
    "access_secret = twitterCredentials.access_secret\n",
    "\n",
    "auth = OAuthHandler(api_key, api_secret)\n",
    "auth.set_access_token(access_token, access_secret)\n",
    "api = tweepy.API(auth, wait_on_rate_limit=True)"
   ]
  },
  {
   "cell_type": "code",
   "execution_count": 3,
   "metadata": {
    "slideshow": {
     "slide_type": "subslide"
    }
   },
   "outputs": [
    {
     "name": "stdout",
     "output_type": "stream",
     "text": [
      "🙋🏽‍♀️Looking to make a career change or find a new job? \n",
      "📩 Submit your resume to be considered for top tech jobs → https://t.co/Xt5eDmTlrk. #jobsearch #techjobs #developer https://t.co/5YRyFCsf82\n",
      "\"WWCode events held a special meaning for us... this was our thing to do together as sisters [and] ...we both felt the most alive in the discussions happening around us.\"\n",
      "\n",
      "Read more → https://t.co/j3O5xnQ87u \n",
      "@wwcsf @wwcode_sv @AditiLonhari #womenwhcode #girlswhocode\n",
      "🙋🏽‍♀️Support women and people of marginalized communities by hiring from our community for you open tech role! \n",
      "\n",
      "Post your job now → https://t.co/r2JxJfaJ7N #womenintech #engineer #nowhiring https://t.co/ZfAhfQv2hU\n",
      "😃 Doing more isn't always the solution.\n",
      "\n",
      "#ThursdayThoughts #WomeninTech https://t.co/NcYH97Im8J\n",
      "👩🏾‍💻Earn your #React Redux Certification with live instructor- led classes from home with @attain_u \n",
      "\n",
      "🚨Apply by today for a scholarship→ https://t.co/hHE4ZBhgDm\n",
      "#onlinelearning #developer https://t.co/PFPxrOqRk3\n",
      "🙋🏽‍♀️ If you are looking to use your time in quarantine to learn a new skill, we are producing tons of technical content to keep your skills sharp!\n",
      "\n",
      "Check them out → https://t.co/7IpA7idMgX\n",
      "#digitalevent #programmer https://t.co/uYBHN5PC8J\n",
      "🚨How to Work From Home With Kids\n",
      "\n",
      "Read more → https://t.co/I5vt1YcUD2\n",
      "@SkyVerge #workingparent #womenwhocode\n",
      "😂 We all need a little bit of humor right now. Tag someone that needs a good laugh!  #programmer #codehumor https://t.co/5Sh7TjBIaW\n",
      "RT @wwcboston: Need help with your resume? Join us this Thursday for \"Crafting your Engineering Career Story: from Resume to Interview\" 💼…\n",
      "🙌🏽@DgtlCrafts is providing a scholarship just for our members to their 26 week part-time bootcamp on 5/26 all campuses. \n",
      "\n",
      "Apply now → https://t.co/8gwLYj5mwU #codingschool #scholarship https://t.co/w0NXeDlCVu\n",
      "🙏🏾Dear women, now more than ever, we need you in tech! #GirlsinICT #GirlsinICTDay https://t.co/41jfzR55rw\n",
      "\"I look forward to welcoming more women to this field so that we can not only have a bigger pie, but share the pie equally.\"\n",
      "\n",
      "Read more → https://t.co/tnjtDNC6XV\n",
      "#womenintech #genderequality\n",
      "🖥 If you miss one of our #webinars, you can find all the recordings and other technical content on our Youtube Channel!\n",
      "\n",
      "Watch now → https://t.co/sXOlZK8WQt https://t.co/SPjJpUDbah\n",
      "🙌🏽 @Postlight is hiring a Remote Full-Stack Engineer!\n",
      "\n",
      "Apply now → https://t.co/mohcSBd54r\n",
      "#engineer #fullstack #remote https://t.co/DPoJSJdQHz\n",
      "\"WWCode events held a special meaning for us... this was our thing to do together as sisters [and] ...we both felt the most alive in the discussions happening around us.\"\n",
      "\n",
      "Read more → https://t.co/TAkZuJihlh\n",
      "@wwcsf @wwcode_sv @AditiLonhari #womenwhcode #girlswhocode\n",
      "We've stepped up to provide you more resources to help get you through COVID-19!\n",
      "\n",
      "📚 Digital #Webinars + Events from Our Networks\n",
      "👩🏾‍💻 Online-Only #Technical Learning Communities  \n",
      "💼 #Remote Jobs \n",
      "\n",
      "Learn more → https://t.co/4Pfn7uhrvf https://t.co/bUHon0XypY\n",
      "👩🏾‍💻We have online learning communities featuring digital #events, resources, and women in #tech from all over the world! \n",
      "🐍@WWCodePython \n",
      "🧬@WWCodeData \n",
      "☁️@WWCodeCloud \n",
      "📱@WWCodeMobile \n",
      "⛓@WWCodeBlock \n",
      "🖥@WWCodeFrontEnd \n",
      "\n",
      "Join for free → https://t.co/uLAl7IlNaG https://t.co/Rhh85EfFbd\n",
      "🌏 We are 200K+ members in 80+ cities!\n",
      "🔎  Find a network near you (or join one online) → https://t.co/vDS4uIUDBJ #womenwhocode #womenintech https://t.co/YSNpHg3Rpa\n",
      "🚨How to Structure an Engineering Team for Scale\n",
      "\n",
      "Read more → https://t.co/6kEduQLigX\n",
      "#engineeringteam @yext #engineer\n",
      "😂 We all need a little bit of humor right now. Tag someone that needs a good laugh!  #programmer #codehumor https://t.co/FBjfokt4rM\n",
      "🙋🏽‍♀️Searching for job in tech? We have 150+ opportunities for all levels including remote jobs.\n",
      "\n",
      "See all jobs → https://t.co/GpOVSRBDzk\n",
      "#techjobs #remotejobs #programmer https://t.co/XLmBfduVKl\n",
      "RT @satyashr: Unconditional support and encouragement from her husband helped #VMinclusionTaara graduate Mythili K, return to a career in t…\n",
      "🚨Today join @AsyncAPISpec community to learn and network together!\n",
      "📅 4/22 - 11AM UTC\n",
      "Learn more → https://t.co/dy8bexwG6R\n",
      "#webinar #onlinelearning #developer https://t.co/iJSZjhPfXl\n",
      "RT @WWCodeVancouver: Proud of our new leads @pgmpofu + @SenzeniMpofu who organized our first virtual event 💥🦄🌸✨\n",
      "\n",
      "@hollympeck @zeinab_sp\n",
      "@gr…\n",
      "Happy #EarthDay #EarthDay2020 https://t.co/mALd4X1gnK\n",
      "🙋🏽‍♀️Has your work schedule changed since #quarantine? https://t.co/LzqzT1BLTN\n",
      "We upgraded our newsletter to include what is important to you!\n",
      "👩🏾‍💻#Remote Jobs\n",
      "🎙Online #Webinars + Events\n",
      "🙋🏽‍♀️Tips For Working Remotely \n",
      "📚Our Online Learning Communities\n",
      "\n",
      "Subscribe now → https://t.co/acMYul4Jlh https://t.co/KPHmosIOOd\n",
      "🙌🏽 @MainspringEnrgy is hiring a SW QA Manager in Menlo Park!\n",
      "\n",
      "Apply now → https://t.co/f6FwRee3dX\n",
      "#qamanager #nowhiring #engineer https://t.co/BH9hpPeYQs\n",
      "🙋🏽‍♀️ If you are looking to use your time in quarantine to learn a new skill, we are producing tons of technical content to keep your skills sharp!\n",
      "\n",
      "Check them out → https://t.co/0cKeJZ7W9P\n",
      "#digitalevent #programmer https://t.co/BTVhr1Lyil\n",
      "🙋🏽‍♀️Ready to take your career to the next level? We are 80+ networks and 200K members strong! \n",
      "\n",
      "Find a network near you → https://t.co/DMaT4a9Eaj\n",
      "#womenwhocode #womenintech https://t.co/tnWRGpt3sX\n",
      "🙋🏽‍♀️Support women and people of marginalized communities by hiring from our community for you open tech role! \n",
      "\n",
      "Post your job now → https://t.co/yZX4SYqrKP #womenintech #engineer #nowhiring https://t.co/Gj6LYBfmT5\n",
      "🚨Advantage of Progressive Web Apps\n",
      "\n",
      "Read more → https://t.co/DvdhR00tx2\n",
      "#apps #developer\n",
      "🚨 #Digital Event Round Up 🚨\n",
      "\n",
      "💫 4/22:  When and How to Use Fuzzy Search #Algorithms \n",
      "💫 4/23: Crafting your #Engineering Career Story\n",
      "💫 4/24: Dive Deep Into #Javascript Generators \n",
      "\n",
      "See all events → https://t.co/uVna42M5ZA https://t.co/xhe3TdgBg0\n",
      "🙌🏽 @GlobalRelay is hiring an Intermediate Software Development Engineer in Vancouver! \n",
      "\n",
      "Apply now → https://t.co/N2XV0vA8Ai\n",
      "@WWCodeVancouver #softwareengineer #engineer https://t.co/Dzv4MsuOh0\n",
      "RT @wwcodemty: Webinar: Cómo sobrevivir al trabajo remoto\n",
      "Martes 28 de abril, 7 pm\n",
      "👩🏽‍💻EN LÍNEA: https://t.co/5Ci2MOH1V1\n",
      "Te apoyamos presen…\n",
      "RT @compeertje: 🎉🎉🎉 I just did @CockroachDB’s Virtual Badge Scan &amp; they donated $3 to @WomenWhoCode on my behalf!! Check out the link to “s…\n",
      "😂 We all need a little bit of humor right now. Tag someone that needs a good laugh!  #programmer #codehumor https://t.co/l2L78pqq2h\n",
      "👩🏾‍💻Join the @AsyncAPISpec community to learn and network together!\n",
      "📅  4/22 - 11AM UTC\n",
      "Set a reminder to join → https://t.co/xl1WqWjQAZ\n",
      "#webinar #onlinelearning #developer https://t.co/VIxBpXLplC\n",
      "@DelphiTeacher_ Reddit!\n",
      "RT @wwcsf: It can be challenging #WFH, but we're all in this together! 🌍 Here's a Remote Work Wiki by @NotionHQ that might help: https://t.…\n",
      "🙌🏽 @reifyhealth is hiring a Remote Sr. Engineering Manager! \n",
      "\n",
      "Apply now → https://t.co/p0GB2UqWnH\n",
      "#engineeringmanager #nowhiring #openroles https://t.co/LqdnzpNBPj\n",
      "👩🏾‍💻 #DYK we have 5 technical online learning communities featuring technical trainings, resources, and 🌍 women in tech from all over the world?\n",
      "\n",
      "Join for free → https://t.co/uLAl7IlNaG\n",
      "#digitalevents #womenwhocode #code https://t.co/1vWvo0X2NI\n",
      "🤔Which #socialmedia platforms do you use? https://t.co/spoI7ori2L\n",
      "🚨Programming a Quantum Computer\n",
      "\n",
      "Read more → https://t.co/vsNzkjL6BJ\n",
      "#programming #quantum\n",
      "🙌🏽 @jangalawifi is hiring a Software Engineering Lead in London!\n",
      "\n",
      "Apply now → https://t.co/YtEJb0EQ25\n",
      "@WWCodeLondon #softwareengineer #leadengineer #nowhiring https://t.co/Fb6KQ7fIPr\n",
      "🚨Last call! Register by today to join the free @UiPath intro to RPA course to learn how to build software robots in less than 4 weeks!\n",
      " \n",
      "Sign up now →https://t.co/CTyR7I7CSg #RebootYourSkills #Engineer https://t.co/zIhUElxidL\n",
      "📣Diversity and inclusion are  everyone's responsibilities! \n",
      "#DEI #DiversityinTech https://t.co/h0QA1Hdgjc\n",
      "👩🏾‍💻+160 free coding resources for all levels of developers → https://t.co/s2Sl56I94H \n",
      "\n",
      "#onlinelearning #tech #womenwhocode https://t.co/8KafS5MvTx\n",
      "😂 We all need a little bit of humor right now. Tag someone that needs a good laugh!  #developer #engineer https://t.co/gWwpOdBKJO\n",
      "🙋🏽‍♀️Looking to hire a talented engineer for your open tech role?\n",
      "💻Our job board has 8K+ applicants and 1.6K companies!\n",
      "\n",
      "Post your job now → https://t.co/mv3RwR87Xv\n",
      "#developer #openjobs #techjobs https://t.co/ZPkZJAxHvZ\n",
      "👩🏾‍💻Join the @AsyncAPISpec community to learn and network together!\n",
      "📅 4/22 - 11AM UTC\n",
      " Learn more → https://t.co/WKhf5yPzWk\n",
      "#webinar #onlinelearning #developer https://t.co/pTygNhZzU2\n",
      "🙋🏽‍♀️Support women and people of marginalized communities by hiring from our community for you open tech role! \n",
      "\n",
      "Post your job now → https://t.co/utsCFLy3Wf #womenintech #engineer #nowhiring https://t.co/jI81uwRYHB\n",
      "👩🏾‍💻 #DYK we have 5 technical online learning communities featuring technical trainings, resources, and 🌍 women in tech from all over the world?\n",
      "\n",
      "Join for free → https://t.co/YZCltGpoJE\n",
      "#onlinelearning #webinar #codingresources https://t.co/qb0VnzVYyr\n",
      "🔥+160 free resources for all levels of developers!\n",
      "Check them out → https://t.co/UOK5uo9BYL\n",
      "#engineer #codingresources https://t.co/Ymf5WEXxjw\n",
      "👩🏾‍💻 Ada Lovelace was the first computer programmer! \n",
      "#programmer #developer https://t.co/VxAlImM7sk\n",
      "🙋🏽‍♀️Looking to make a career change or find a new job? \n",
      "📩 Submit your resume to be considered for top tech jobs → https://t.co/ZtdOhLL1fI. #jobsearch #techjobs #developer https://t.co/RsnpZh65nl\n",
      "🙌🏽 @flexport is hiring a Staff Software Engineer in SF!\n",
      "\n",
      "Apply now → https://t.co/4QIKtuTk5C\n",
      "@wwcsf #softwareengineer #techjobs #nowhiring https://t.co/EE5DcLih7j\n",
      "🚨The Future of Coding Is ‘No Code’\n",
      "\n",
      "Read more → https://t.co/oiusfckbEG\n",
      "#coding #programming\n",
      "😂 We all need a little bit of humor right now. Tag someone that needs a good laugh!  #programmer #techhumor https://t.co/JgbYg7Myki\n",
      "🙋🏽‍♀️Searching for job in tech? We have 150+ opportunities for all levels including remote jobs.\n",
      "\n",
      "See all jobs → https://t.co/zRs7ldDiw1\n",
      "#techjobs #remotejobs #programmer https://t.co/E7qeRzGZyg\n",
      "🚨Storing + Analyzing Streaming Data Using AWS\n",
      "\n",
      "Read more → https://t.co/RNJYTluLL4\n",
      "#AWS #Developer\n",
      "🙋🏽‍♀️ Using your time in quarantine to keep your technical skills sharp? \n",
      "\n",
      "Check out our free webinars focused on technical content→ https://t.co/cGE7o5XDY7  #onlineevent #webinar #codingresources #womenintech https://t.co/7QQO6JUb5A\n",
      "🙌🏽 @campspot is hiring a Chief Technology Officer in Denver!\n",
      "\n",
      "Apply now → https://t.co/qyXOi8ewZ7\n",
      "@wwcodecolorado #CTO #Techjobs #chieftechnologyofficer https://t.co/fwZZWDVVyf\n",
      "👩🏾‍💻How many hours do you work per week?  #developer #programmer https://t.co/RM5faTU1WA\n",
      "🙋🏽‍♀️Support women and people of marginalized communities by hiring from our community for you open tech role! \n",
      "\n",
      "Post your job now → https://t.co/HXB0pxFGxe #nowhiring #engineer #openrole https://t.co/uwl1x0Q8Ic\n",
      "👩🏾‍💻+160 free coding resources for all levels of developers → https://t.co/XXz2g73rsx \n",
      "\n",
      "#codingresources #developer https://t.co/rZUcShSQC0\n",
      "😂 We all need a little bit of humor right now. Tag someone that needs a good laugh!  #developer #programmer https://t.co/DPCVGWWjvG\n",
      "\"The industry is going to be hard. There’s adversity out there, but there are plenty of women enjoying success too.\"\n",
      "\n",
      "Read more → https://t.co/ozn4ibGyMy\n",
      "@JAXenterCOM #womenwhocode #womenintech\n",
      "🙌🏽 @ordergroove is hiring a Sr Full Stack Software Engineer in NYC!\n",
      "\n",
      "Apply now → https://t.co/CMdRQjxJOT\n",
      "@WomenWhoCodeNYC #fullstack #engineer #openrole https://t.co/5lj13YbZur\n",
      "🙌🏽 Use failures to your advantage! \n",
      "#SaturdayThoughts #WomenWhoCode https://t.co/kUUs5EIv62\n",
      "🙌🏽 @kliithealth is hiring a Remote React Developer!\n",
      "\n",
      "Apply now → https://t.co/RzlgQ8hExM\n",
      "#react #developer #techjobs https://t.co/ThonZ0jDbk\n",
      "🚨Tips for Upgrading Your Design from the Latest UX Designs \n",
      "\n",
      "Read more → https://t.co/csud49s3T9 #UXDesign #productdesigner\n",
      "🙋🏽‍♀️ Using your time in quarantine to keep your technical skills sharp? \n",
      "🚨Check out our free webinars focused on technical content→ https://t.co/TXliU1QRUM  #onlineevent #techresource #dev https://t.co/0tuK8Mo8IX\n",
      "🙋🏽‍♀️Searching for job in tech? We have150+ opportunities for all levels including remote jobs.\n",
      "\n",
      "See all jobs → https://t.co/JhEwQYyrdw\n",
      "#openroles #career #developer https://t.co/jpp8GMHXgp\n",
      "🚨If You Want to Be a Senior Developer, Stop Focusing on Syntax\n",
      "\n",
      "Read more → https://t.co/5g7HvfYUgB\n",
      "#seniordeveloper #developer #techjob\n",
      "😂Tag a #developer that needs a good laugh! https://t.co/5oQp5cjHAE\n",
      "🙌🏽 @ModeAnalytics is hiring a VP of Engineering in SF! \n",
      "\n",
      "Apply now → https://t.co/oyG76IrqZF\n",
      "#engineering #openrole #executive https://t.co/mFupT0jE8O\n",
      "👩🏾‍💻 #DYK we have 5 technical online learning communities featuring technical trainings, resources, and 🌍 women in tech from all over the world?\n",
      "\n",
      "Join for free → https://t.co/hB1bi2YmXE\n",
      "#womenintech #developer #techresources https://t.co/OYrz37ybNh\n",
      "🚨How to Build Dynamic Breadcrumbs in #Laravel\n",
      "\n",
      "Read more → https://t.co/pVtCh6pZmD\n",
      "#developer #engineer\n",
      "🙌🏽 PEAK6 is hiring a Backend Engineer in Chicago!\n",
      "\n",
      "Apply now → https://t.co/Qjl9Cd7dz7\n",
      "@WWCodeChicago #backend #engineer #nowhiring https://t.co/VsurJEr5wR\n",
      "🙋🏽‍♀️ Using your time in quarantine to keep your technical skills sharp? \n",
      "🚨Check out our free webinars focused on technical content→ https://t.co/N0lRjWnQxI  #onlineevent #techresource #dev https://t.co/UHJlByCMHs\n",
      "\"It just hasn't occurred to them that the male data won't suffice, and that male data doesn't represent human data.\"\n",
      "\n",
      "Read more → https://t.co/manubFzXET\n",
      "@Forbes #databias #womenwhocode\n",
      "🙋🏽‍♀️ Looking for a new skill to learn during quarantine? \n",
      "🖥 Sign up for the new 4-week program offered by @UiPath to learn how to build software robots! \n",
      "\n",
      "Enroll now → https://t.co/bAYkLcp4JT #RebootYourSkills #Robotics #Engineer https://t.co/2UApQnBmcz\n",
      "🙌🏽 @jangalawifi is hiring a Software Engineering Lead in London!\n",
      "\n",
      "Apply now → https://t.co/YtEJb0nfax\n",
      "@WWCodeLondon #softwareengineer #leadengineer #nowhiring https://t.co/W6NMDp3GxB\n",
      "RT @blumareks: Happy Friday! Do you miss talking to other people? I do! I am doing a webinar for @WomenWhoCode @WomenWhoCodeSV on @IstioMes…\n",
      "👩🏾‍💻Grace Hopper was one of the first programmers of the Harvard Mark I computer and invented the first compiler for a computer programming language!   #programmer #developer https://t.co/vU6YUdn6za\n",
      "🙋🏽‍♀️Looking to make a career change or find a new job? \n",
      "📩 Submit your resume to be considered for top tech jobs → https://t.co/If3OwuANOx. #nowhiring #openrole #dev https://t.co/vReV98C2QO\n",
      "🚨How UX Design Integrates with Agile and Scrum\n",
      "\n",
      "Read more → https://t.co/RcC0cNvU2H\n",
      "#uxdesign #agile #scrum\n",
      "🙌 @Pixar is hiring a Systems Engineer (Cloud Services) in Emeryville, CA! \n",
      "\n",
      "Apply now → https://t.co/hcq1FwbOCG\n",
      "#engineer #developer #techjobs https://t.co/1gQdPFpJCa\n",
      "😂 We all need a little bit of humor right now. Tag someone that needs a good laugh!  #engineer #codinghumor https://t.co/8UHUk2BiGK\n",
      "🙌🏽 @integrate is hiring a Senior Software Engineer in Phoenix!\n",
      "\n",
      "Apply now → https://t.co/wR3xh2E74Q\n",
      "@WWCodePhoenix #softwareengineer #techjobs #openrole https://t.co/3914ONz6h8\n",
      "RT @wwcsf: Help your network by ordering a T-Shirt! Check out the Catalog for more networks and designs.  https://t.co/AouzOE8HI8 @wwcsf @w…\n",
      "🙌🏽 During times of uncertainty like these, use it as an opportunity to get comfortable with being uncomfortable!\n",
      "#ThursdayThoughts #WomeninTech https://t.co/z5P7dXqu0F\n",
      "👩🏾‍💻+160 free coding resources for all levels of developers.\n",
      "\n",
      "Check them out → https://t.co/av5JHdcZiY \n",
      "#codingresources #developer https://t.co/tGciAJZRYw\n",
      "\"With 78% of AI professionals being men, male experiences inform and dominate algorithm creation.\"\n",
      "\n",
      "Read more → https://t.co/RAbhqrAbRv\n",
      "#automation #genderbias #AI\n",
      "🙋🏽‍♀️Looking to hire a talented engineer for your open tech role?\n",
      "💻Our job board has 8K+ applicants and 1.6K companies! \n",
      "\n",
      "Post your job now → https://t.co/Lqfo88fwXP #nowhiring #engineer #openrole https://t.co/x46dUZ97ME\n",
      "🙋🏽‍♀️Is equal pay a top workplace issue at your company?\n",
      "#equalpay #womenwhocode https://t.co/47MdDK2xjm\n",
      "🙋🏽‍♀️ Using your time in quarantine to keep your technical skills sharp? \n",
      "\n",
      "Check out our free webinars focused on technical content→ https://t.co/1Kx8CyyPZT  #onlineevent #techresource #dev https://t.co/0RcnS5xBbA\n",
      "🚨7 Advanced Tricks in Panda for Data Scientists\n",
      "\n",
      "Read more →https://t.co/jnRsWXuCED\n",
      "#datascience #panda\n",
      "😂 We all need a little bit of humor right now. Tag someone that needs a good laugh!  #codehumor #womenintech https://t.co/am29JqKBpW\n"
     ]
    }
   ],
   "source": [
    "import csv\n",
    "import emoji\n",
    "\n",
    "timeline = api.user_timeline(id=\"WomenWhoCode\", count=100, tweet_mode=\"extended\" )\n",
    "\n",
    "with open('testcsv.csv', 'w', newline='', encoding='utf-8') as file:\n",
    "    writer = csv.writer(file)\n",
    "    writer.writerow([\"Date\", \"Day\", \"Tweet\", \"Retweets\", \"Likes\"])\n",
    "\n",
    "    for tweet in timeline:\n",
    "        text_tweet = tweet.full_text\n",
    "        print(text_tweet)\n",
    "        allchars = [str for str in text_tweet]\n",
    "        emoji_list = [c for c in allchars if c in emoji.UNICODE_EMOJI]\n",
    "        clean_text = ' '.join([str for str in text_tweet.split() if not any(i in str for i in emoji_list)])\n",
    "        data = [tweet.created_at.date().strftime(\"%b %d %Y \"), tweet.created_at.date().strftime(\"%b %d\"), clean_text, tweet.retweet_count, tweet.favorite_count]\n",
    "        writer.writerow(data)"
   ]
  },
  {
   "cell_type": "code",
   "execution_count": 4,
   "metadata": {
    "slideshow": {
     "slide_type": "subslide"
    }
   },
   "outputs": [
    {
     "data": {
      "text/html": [
       "<div>\n",
       "<style scoped>\n",
       "    .dataframe tbody tr th:only-of-type {\n",
       "        vertical-align: middle;\n",
       "    }\n",
       "\n",
       "    .dataframe tbody tr th {\n",
       "        vertical-align: top;\n",
       "    }\n",
       "\n",
       "    .dataframe thead th {\n",
       "        text-align: right;\n",
       "    }\n",
       "</style>\n",
       "<table border=\"1\" class=\"dataframe\">\n",
       "  <thead>\n",
       "    <tr style=\"text-align: right;\">\n",
       "      <th></th>\n",
       "      <th>Date</th>\n",
       "      <th>Day</th>\n",
       "      <th>Tweet</th>\n",
       "      <th>Retweets</th>\n",
       "      <th>Likes</th>\n",
       "    </tr>\n",
       "  </thead>\n",
       "  <tbody>\n",
       "    <tr>\n",
       "      <td>0</td>\n",
       "      <td>Apr 24 2020</td>\n",
       "      <td>Apr 24</td>\n",
       "      <td>to make a career change or find a new job? Sub...</td>\n",
       "      <td>5</td>\n",
       "      <td>14</td>\n",
       "    </tr>\n",
       "    <tr>\n",
       "      <td>1</td>\n",
       "      <td>Apr 23 2020</td>\n",
       "      <td>Apr 23</td>\n",
       "      <td>\"WWCode events held a special meaning for us.....</td>\n",
       "      <td>2</td>\n",
       "      <td>4</td>\n",
       "    </tr>\n",
       "    <tr>\n",
       "      <td>2</td>\n",
       "      <td>Apr 23 2020</td>\n",
       "      <td>Apr 23</td>\n",
       "      <td>women and people of marginalized communities b...</td>\n",
       "      <td>1</td>\n",
       "      <td>5</td>\n",
       "    </tr>\n",
       "    <tr>\n",
       "      <td>3</td>\n",
       "      <td>Apr 23 2020</td>\n",
       "      <td>Apr 23</td>\n",
       "      <td>Doing more isn't always the solution. #Thursda...</td>\n",
       "      <td>13</td>\n",
       "      <td>29</td>\n",
       "    </tr>\n",
       "    <tr>\n",
       "      <td>4</td>\n",
       "      <td>Apr 23 2020</td>\n",
       "      <td>Apr 23</td>\n",
       "      <td>your #React Redux Certification with live inst...</td>\n",
       "      <td>1</td>\n",
       "      <td>4</td>\n",
       "    </tr>\n",
       "    <tr>\n",
       "      <td>...</td>\n",
       "      <td>...</td>\n",
       "      <td>...</td>\n",
       "      <td>...</td>\n",
       "      <td>...</td>\n",
       "      <td>...</td>\n",
       "    </tr>\n",
       "    <tr>\n",
       "      <td>95</td>\n",
       "      <td>Apr 16 2020</td>\n",
       "      <td>Apr 16</td>\n",
       "      <td>to hire a talented engineer for your open tech...</td>\n",
       "      <td>6</td>\n",
       "      <td>12</td>\n",
       "    </tr>\n",
       "    <tr>\n",
       "      <td>96</td>\n",
       "      <td>Apr 16 2020</td>\n",
       "      <td>Apr 16</td>\n",
       "      <td>equal pay a top workplace issue at your compan...</td>\n",
       "      <td>3</td>\n",
       "      <td>5</td>\n",
       "    </tr>\n",
       "    <tr>\n",
       "      <td>97</td>\n",
       "      <td>Apr 16 2020</td>\n",
       "      <td>Apr 16</td>\n",
       "      <td>Using your time in quarantine to keep your tec...</td>\n",
       "      <td>6</td>\n",
       "      <td>18</td>\n",
       "    </tr>\n",
       "    <tr>\n",
       "      <td>98</td>\n",
       "      <td>Apr 16 2020</td>\n",
       "      <td>Apr 16</td>\n",
       "      <td>Advanced Tricks in Panda for Data Scientists R...</td>\n",
       "      <td>6</td>\n",
       "      <td>5</td>\n",
       "    </tr>\n",
       "    <tr>\n",
       "      <td>99</td>\n",
       "      <td>Apr 16 2020</td>\n",
       "      <td>Apr 16</td>\n",
       "      <td>We all need a little bit of humor right now. T...</td>\n",
       "      <td>24</td>\n",
       "      <td>83</td>\n",
       "    </tr>\n",
       "  </tbody>\n",
       "</table>\n",
       "<p>100 rows × 5 columns</p>\n",
       "</div>"
      ],
      "text/plain": [
       "            Date     Day                                              Tweet  \\\n",
       "0   Apr 24 2020   Apr 24  to make a career change or find a new job? Sub...   \n",
       "1   Apr 23 2020   Apr 23  \"WWCode events held a special meaning for us.....   \n",
       "2   Apr 23 2020   Apr 23  women and people of marginalized communities b...   \n",
       "3   Apr 23 2020   Apr 23  Doing more isn't always the solution. #Thursda...   \n",
       "4   Apr 23 2020   Apr 23  your #React Redux Certification with live inst...   \n",
       "..           ...     ...                                                ...   \n",
       "95  Apr 16 2020   Apr 16  to hire a talented engineer for your open tech...   \n",
       "96  Apr 16 2020   Apr 16  equal pay a top workplace issue at your compan...   \n",
       "97  Apr 16 2020   Apr 16  Using your time in quarantine to keep your tec...   \n",
       "98  Apr 16 2020   Apr 16  Advanced Tricks in Panda for Data Scientists R...   \n",
       "99  Apr 16 2020   Apr 16  We all need a little bit of humor right now. T...   \n",
       "\n",
       "    Retweets  Likes  \n",
       "0          5     14  \n",
       "1          2      4  \n",
       "2          1      5  \n",
       "3         13     29  \n",
       "4          1      4  \n",
       "..       ...    ...  \n",
       "95         6     12  \n",
       "96         3      5  \n",
       "97         6     18  \n",
       "98         6      5  \n",
       "99        24     83  \n",
       "\n",
       "[100 rows x 5 columns]"
      ]
     },
     "execution_count": 4,
     "metadata": {},
     "output_type": "execute_result"
    }
   ],
   "source": [
    "import pandas as pd\n",
    "\n",
    "data = pd.read_csv(\"testcsv.csv\")\n",
    "data"
   ]
  },
  {
   "cell_type": "markdown",
   "metadata": {
    "slideshow": {
     "slide_type": "subslide"
    }
   },
   "source": [
    "### Twitter Archiver\n",
    "\n",
    "Twitter Archiver help us to extract data of twitter with the parameters given"
   ]
  },
  {
   "cell_type": "markdown",
   "metadata": {
    "slideshow": {
     "slide_type": "fragment"
    }
   },
   "source": [
    "<img src=\"twitterArchiver.png\" />"
   ]
  },
  {
   "cell_type": "markdown",
   "metadata": {
    "slideshow": {
     "slide_type": "slide"
    }
   },
   "source": [
    "## Process Data\n",
    "\n",
    "* Textblob: is a Python (2 and 3) library for processing textual data. It provides a consistent API for diving into common natural language processing (NLP) tasks such as part-of-speech tagging, noun phrase extraction, sentiment analysis, and more.\n",
    "\n",
    "Sentiment Analysis returns two values:\n",
    "\n",
    "\t- Polarity: float which lies in the range of [-1,1] where 1 means positive statement and -1 means a negative statement.\n",
    "\n",
    "\t- Subjectivity: Subjective sentences generally refer to personal opinion, emotion or judgment whereas objective refers to factual information. Subjectivity is also a float which lies in the range of [0,1]."
   ]
  },
  {
   "cell_type": "code",
   "execution_count": 5,
   "metadata": {
    "slideshow": {
     "slide_type": "subslide"
    }
   },
   "outputs": [],
   "source": [
    "from textblob import TextBlob \n",
    "\n",
    "popularity_list = []\n",
    "num_list = []\n",
    "num = 1"
   ]
  },
  {
   "cell_type": "code",
   "execution_count": 6,
   "metadata": {
    "slideshow": {
     "slide_type": "subslide"
    }
   },
   "outputs": [
    {
     "name": "stdout",
     "output_type": "stream",
     "text": [
      "to make a career change or find a new job? Submit your resume to be considered for top tech jobs → https://t.co/Xt5eDmTlrk. #jobsearch #techjobs #developer https://t.co/5YRyFCsf82\n",
      "Sentiment(polarity=0.3181818181818182, subjectivity=0.4772727272727273)\n",
      "\"WWCode events held a special meaning for us... this was our thing to do together as sisters [and] ...we both felt the most alive in the discussions happening around us.\" Read more → https://t.co/j3O5xnQ87u @wwcsf @wwcode_sv @AditiLonhari #womenwhcode #girlswhocode\n",
      "Sentiment(polarity=0.3642857142857143, subjectivity=0.4928571428571429)\n",
      "women and people of marginalized communities by hiring from our community for you open tech role! Post your job now → https://t.co/r2JxJfaJ7N #womenintech #engineer #nowhiring https://t.co/ZfAhfQv2hU\n",
      "Sentiment(polarity=0.0, subjectivity=0.5)\n",
      "Doing more isn't always the solution. #ThursdayThoughts #WomeninTech https://t.co/NcYH97Im8J\n",
      "Sentiment(polarity=0.5, subjectivity=0.5)\n",
      "your #React Redux Certification with live instructor- led classes from home with @attain_u by today for a scholarship→ https://t.co/hHE4ZBhgDm #onlinelearning #developer https://t.co/PFPxrOqRk3\n",
      "Sentiment(polarity=0.13636363636363635, subjectivity=0.5)\n",
      "If you are looking to use your time in quarantine to learn a new skill, we are producing tons of technical content to keep your skills sharp! Check them out → https://t.co/7IpA7idMgX #digitalevent #programmer https://t.co/uYBHN5PC8J\n",
      "Sentiment(polarity=-0.0066287878787878824, subjectivity=0.4348484848484849)\n",
      "to Work From Home With Kids Read more → https://t.co/I5vt1YcUD2 @SkyVerge #workingparent #womenwhocode\n",
      "Sentiment(polarity=0.5, subjectivity=0.5)\n",
      "We all need a little bit of humor right now. Tag someone that needs a good laugh! #programmer #codehumor https://t.co/5Sh7TjBIaW\n",
      "Sentiment(polarity=0.29330357142857144, subjectivity=0.43392857142857144)\n",
      "RT @wwcboston: Need help with your resume? Join us this Thursday for \"Crafting your Engineering Career Story: from Resume to Interview\"\n",
      "Sentiment(polarity=0.0, subjectivity=0.0)\n",
      "is providing a scholarship just for our members to their 26 week part-time bootcamp on 5/26 all campuses. Apply now → https://t.co/8gwLYj5mwU #codingschool #scholarship https://t.co/w0NXeDlCVu\n",
      "Sentiment(polarity=0.0, subjectivity=0.0)\n",
      "women, now more than ever, we need you in tech! #GirlsinICT #GirlsinICTDay https://t.co/41jfzR55rw\n",
      "Sentiment(polarity=0.625, subjectivity=0.5)\n",
      "\"I look forward to welcoming more women to this field so that we can not only have a bigger pie, but share the pie equally.\" Read more → https://t.co/tnjtDNC6XV #womenintech #genderequality\n",
      "Sentiment(polarity=0.2, subjectivity=0.55)\n",
      "If you miss one of our #webinars, you can find all the recordings and other technical content on our Youtube Channel! Watch now → https://t.co/sXOlZK8WQt https://t.co/SPjJpUDbah\n",
      "Sentiment(polarity=-0.0625, subjectivity=0.2375)\n",
      "@Postlight is hiring a Remote Full-Stack Engineer! Apply now → https://t.co/mohcSBd54r #engineer #fullstack #remote https://t.co/DPoJSJdQHz\n",
      "Sentiment(polarity=-0.1125, subjectivity=0.2)\n",
      "\"WWCode events held a special meaning for us... this was our thing to do together as sisters [and] ...we both felt the most alive in the discussions happening around us.\" Read more → https://t.co/TAkZuJihlh @wwcsf @wwcode_sv @AditiLonhari #womenwhcode #girlswhocode\n",
      "Sentiment(polarity=0.3642857142857143, subjectivity=0.4928571428571429)\n",
      "We've stepped up to provide you more resources to help get you through COVID-19! Digital #Webinars + Events from Our Networks Online-Only #Technical Learning Communities #Remote Jobs Learn more → https://t.co/4Pfn7uhrvf https://t.co/bUHon0XypY\n",
      "Sentiment(polarity=0.205, subjectivity=0.26)\n",
      "have online learning communities featuring digital #events, resources, and women in #tech from all over the world! Join for free → https://t.co/uLAl7IlNaG https://t.co/Rhh85EfFbd\n",
      "Sentiment(polarity=0.2, subjectivity=0.4)\n",
      "We are 200K+ members in 80+ cities! Find a network near you (or join one online) → https://t.co/vDS4uIUDBJ #womenwhocode #womenintech https://t.co/YSNpHg3Rpa\n",
      "Sentiment(polarity=0.1, subjectivity=0.4)\n",
      "to Structure an Engineering Team for Scale Read more → https://t.co/6kEduQLigX #engineeringteam @yext #engineer\n",
      "Sentiment(polarity=0.5, subjectivity=0.5)\n",
      "We all need a little bit of humor right now. Tag someone that needs a good laugh! #programmer #codehumor https://t.co/FBjfokt4rM\n",
      "Sentiment(polarity=0.29330357142857144, subjectivity=0.43392857142857144)\n",
      "for job in tech? We have 150+ opportunities for all levels including remote jobs. See all jobs → https://t.co/GpOVSRBDzk #techjobs #remotejobs #programmer https://t.co/XLmBfduVKl\n",
      "Sentiment(polarity=-0.1, subjectivity=0.2)\n",
      "RT @satyashr: Unconditional support and encouragement from her husband helped #VMinclusionTaara graduate Mythili K, return to a career in t…\n",
      "Sentiment(polarity=0.0, subjectivity=0.0)\n",
      "join @AsyncAPISpec community to learn and network together! 4/22 - 11AM UTC Learn more → https://t.co/dy8bexwG6R #webinar #onlinelearning #developer https://t.co/iJSZjhPfXl\n",
      "Sentiment(polarity=0.5, subjectivity=0.5)\n",
      "RT @WWCodeVancouver: Proud of our new leads @pgmpofu + @SenzeniMpofu who organized our first virtual event @hollympeck @zeinab_sp @gr…\n",
      "Sentiment(polarity=0.3954545454545455, subjectivity=0.5959595959595959)\n",
      "Happy #EarthDay #EarthDay2020 https://t.co/mALd4X1gnK\n",
      "Sentiment(polarity=0.8, subjectivity=1.0)\n",
      "your work schedule changed since #quarantine? https://t.co/LzqzT1BLTN\n",
      "Sentiment(polarity=0.0, subjectivity=0.0)\n",
      "We upgraded our newsletter to include what is important to you! Jobs #Webinars + Events For Working Remotely Online Learning Communities Subscribe now → https://t.co/acMYul4Jlh https://t.co/KPHmosIOOd\n",
      "Sentiment(polarity=0.2, subjectivity=0.6)\n",
      "@MainspringEnrgy is hiring a SW QA Manager in Menlo Park! Apply now → https://t.co/f6FwRee3dX #qamanager #nowhiring #engineer https://t.co/BH9hpPeYQs\n",
      "Sentiment(polarity=0.0, subjectivity=0.0)\n",
      "If you are looking to use your time in quarantine to learn a new skill, we are producing tons of technical content to keep your skills sharp! Check them out → https://t.co/0cKeJZ7W9P #digitalevent #programmer https://t.co/BTVhr1Lyil\n",
      "Sentiment(polarity=-0.0066287878787878824, subjectivity=0.4348484848484849)\n",
      "to take your career to the next level? We are 80+ networks and 200K members strong! Find a network near you → https://t.co/DMaT4a9Eaj #womenwhocode #womenintech https://t.co/tnWRGpt3sX\n",
      "Sentiment(polarity=0.21388888888888888, subjectivity=0.37777777777777777)\n",
      "women and people of marginalized communities by hiring from our community for you open tech role! Post your job now → https://t.co/yZX4SYqrKP #womenintech #engineer #nowhiring https://t.co/Gj6LYBfmT5\n",
      "Sentiment(polarity=0.0, subjectivity=0.5)\n",
      "of Progressive Web Apps Read more → https://t.co/DvdhR00tx2 #apps #developer\n",
      "Sentiment(polarity=0.5, subjectivity=0.5)\n",
      "#Digital Event Round Up 4/22: When and How to Use Fuzzy Search #Algorithms 4/23: Crafting your #Engineering Career Story 4/24: Dive Deep Into #Javascript Generators See all events → https://t.co/uVna42M5ZA https://t.co/xhe3TdgBg0\n",
      "Sentiment(polarity=-0.06666666666666667, subjectivity=0.26666666666666666)\n",
      "@GlobalRelay is hiring an Intermediate Software Development Engineer in Vancouver! Apply now → https://t.co/N2XV0vA8Ai @WWCodeVancouver #softwareengineer #engineer https://t.co/Dzv4MsuOh0\n",
      "Sentiment(polarity=0.0, subjectivity=0.0)\n",
      "RT @wwcodemty: Webinar: Cómo sobrevivir al trabajo remoto Martes 28 de abril, 7 pm LÍNEA: https://t.co/5Ci2MOH1V1 Te apoyamos presen…\n",
      "Sentiment(polarity=0.0, subjectivity=0.0)\n",
      "RT @compeertje: I just did @CockroachDB’s Virtual Badge Scan &amp; they donated $3 to @WomenWhoCode on my behalf!! Check out the link to “s…\n",
      "Sentiment(polarity=0.0, subjectivity=0.0)\n",
      "We all need a little bit of humor right now. Tag someone that needs a good laugh! #programmer #codehumor https://t.co/l2L78pqq2h\n",
      "Sentiment(polarity=0.29330357142857144, subjectivity=0.43392857142857144)\n",
      "the @AsyncAPISpec community to learn and network together! 4/22 - 11AM UTC Set a reminder to join → https://t.co/xl1WqWjQAZ #webinar #onlinelearning #developer https://t.co/VIxBpXLplC\n",
      "Sentiment(polarity=0.0, subjectivity=0.0)\n",
      "@DelphiTeacher_ Reddit!\n",
      "Sentiment(polarity=0.0, subjectivity=0.0)\n",
      "RT @wwcsf: It can be challenging #WFH, but we're all in this together! Here's a Remote Work Wiki by @NotionHQ that might help: https://t.…\n",
      "Sentiment(polarity=0.2625, subjectivity=0.6)\n",
      "@reifyhealth is hiring a Remote Sr. Engineering Manager! Apply now → https://t.co/p0GB2UqWnH #engineeringmanager #nowhiring #openroles https://t.co/LqdnzpNBPj\n",
      "Sentiment(polarity=-0.125, subjectivity=0.2)\n",
      "#DYK we have 5 technical online learning communities featuring technical trainings, resources, and women in tech from all over the world? Join for free → https://t.co/uLAl7IlNaG #digitalevents #womenwhocode #code https://t.co/1vWvo0X2NI\n",
      "Sentiment(polarity=0.13333333333333333, subjectivity=0.3333333333333333)\n",
      "#socialmedia platforms do you use? https://t.co/spoI7ori2L\n",
      "Sentiment(polarity=0.0, subjectivity=0.0)\n",
      "a Quantum Computer Read more → https://t.co/vsNzkjL6BJ #programming #quantum\n",
      "Sentiment(polarity=0.5, subjectivity=0.5)\n",
      "@jangalawifi is hiring a Software Engineering Lead in London! Apply now → https://t.co/YtEJb0EQ25 @WWCodeLondon #softwareengineer #leadengineer #nowhiring https://t.co/Fb6KQ7fIPr\n",
      "Sentiment(polarity=0.0, subjectivity=0.0)\n",
      "call! Register by today to join the free @UiPath intro to RPA course to learn how to build software robots in less than 4 weeks! Sign up now →https://t.co/CTyR7I7CSg #RebootYourSkills #Engineer https://t.co/zIhUElxidL\n",
      "Sentiment(polarity=0.09583333333333335, subjectivity=0.43333333333333335)\n",
      "and inclusion are everyone's responsibilities! #DEI #DiversityinTech https://t.co/h0QA1Hdgjc\n",
      "Sentiment(polarity=0.0, subjectivity=0.0)\n",
      "free coding resources for all levels of developers → https://t.co/s2Sl56I94H #onlinelearning #tech #womenwhocode https://t.co/8KafS5MvTx\n",
      "Sentiment(polarity=0.4, subjectivity=0.8)\n",
      "We all need a little bit of humor right now. Tag someone that needs a good laugh! #developer #engineer https://t.co/gWwpOdBKJO\n",
      "Sentiment(polarity=0.29330357142857144, subjectivity=0.43392857142857144)\n",
      "to hire a talented engineer for your open tech role? job board has 8K+ applicants and 1.6K companies! Post your job now → https://t.co/mv3RwR87Xv #developer #openjobs #techjobs https://t.co/ZPkZJAxHvZ\n",
      "Sentiment(polarity=0.35, subjectivity=0.7)\n",
      "the @AsyncAPISpec community to learn and network together! 4/22 - 11AM UTC Learn more → https://t.co/WKhf5yPzWk #webinar #onlinelearning #developer https://t.co/pTygNhZzU2\n",
      "Sentiment(polarity=0.5, subjectivity=0.5)\n",
      "women and people of marginalized communities by hiring from our community for you open tech role! Post your job now → https://t.co/utsCFLy3Wf #womenintech #engineer #nowhiring https://t.co/jI81uwRYHB\n",
      "Sentiment(polarity=0.0, subjectivity=0.5)\n",
      "#DYK we have 5 technical online learning communities featuring technical trainings, resources, and women in tech from all over the world? Join for free → https://t.co/YZCltGpoJE #onlinelearning #webinar #codingresources https://t.co/qb0VnzVYyr\n",
      "Sentiment(polarity=0.13333333333333333, subjectivity=0.3333333333333333)\n",
      "free resources for all levels of developers! Check them out → https://t.co/UOK5uo9BYL #engineer #codingresources https://t.co/Ymf5WEXxjw\n",
      "Sentiment(polarity=0.5, subjectivity=0.8)\n",
      "Ada Lovelace was the first computer programmer! #programmer #developer https://t.co/VxAlImM7sk\n",
      "Sentiment(polarity=0.3125, subjectivity=0.3333333333333333)\n",
      "to make a career change or find a new job? Submit your resume to be considered for top tech jobs → https://t.co/ZtdOhLL1fI. #jobsearch #techjobs #developer https://t.co/RsnpZh65nl\n",
      "Sentiment(polarity=0.3181818181818182, subjectivity=0.4772727272727273)\n",
      "@flexport is hiring a Staff Software Engineer in SF! Apply now → https://t.co/4QIKtuTk5C @wwcsf #softwareengineer #techjobs #nowhiring https://t.co/EE5DcLih7j\n",
      "Sentiment(polarity=0.0, subjectivity=0.0)\n",
      "Future of Coding Is ‘No Code’ Read more → https://t.co/oiusfckbEG #coding #programming\n",
      "Sentiment(polarity=0.25, subjectivity=0.3125)\n",
      "We all need a little bit of humor right now. Tag someone that needs a good laugh! #programmer #techhumor https://t.co/JgbYg7Myki\n",
      "Sentiment(polarity=0.29330357142857144, subjectivity=0.43392857142857144)\n",
      "for job in tech? We have 150+ opportunities for all levels including remote jobs. See all jobs → https://t.co/zRs7ldDiw1 #techjobs #remotejobs #programmer https://t.co/E7qeRzGZyg\n",
      "Sentiment(polarity=-0.1, subjectivity=0.2)\n",
      "+ Analyzing Streaming Data Using AWS Read more → https://t.co/RNJYTluLL4 #AWS #Developer\n",
      "Sentiment(polarity=0.5, subjectivity=0.5)\n",
      "Using your time in quarantine to keep your technical skills sharp? Check out our free webinars focused on technical content→ https://t.co/cGE7o5XDY7 #onlineevent #webinar #codingresources #womenintech https://t.co/7QQO6JUb5A\n",
      "Sentiment(polarity=0.06875, subjectivity=0.4375)\n",
      "@campspot is hiring a Chief Technology Officer in Denver! Apply now → https://t.co/qyXOi8ewZ7 @wwcodecolorado #CTO #Techjobs #chieftechnologyofficer https://t.co/fwZZWDVVyf\n",
      "Sentiment(polarity=0.0, subjectivity=0.0)\n",
      "many hours do you work per week? #developer #programmer https://t.co/RM5faTU1WA\n",
      "Sentiment(polarity=0.5, subjectivity=0.5)\n",
      "women and people of marginalized communities by hiring from our community for you open tech role! Post your job now → https://t.co/HXB0pxFGxe #nowhiring #engineer #openrole https://t.co/uwl1x0Q8Ic\n",
      "Sentiment(polarity=0.0, subjectivity=0.5)\n",
      "free coding resources for all levels of developers → https://t.co/XXz2g73rsx #codingresources #developer https://t.co/rZUcShSQC0\n",
      "Sentiment(polarity=0.4, subjectivity=0.8)\n",
      "We all need a little bit of humor right now. Tag someone that needs a good laugh! #developer #programmer https://t.co/DPCVGWWjvG\n",
      "Sentiment(polarity=0.29330357142857144, subjectivity=0.43392857142857144)\n",
      "\"The industry is going to be hard. There’s adversity out there, but there are plenty of women enjoying success too.\" Read more → https://t.co/ozn4ibGyMy @JAXenterCOM #womenwhocode #womenintech\n",
      "Sentiment(polarity=0.2520833333333333, subjectivity=0.41041666666666665)\n",
      "@ordergroove is hiring a Sr Full Stack Software Engineer in NYC! Apply now → https://t.co/CMdRQjxJOT @WomenWhoCodeNYC #fullstack #engineer #openrole https://t.co/5lj13YbZur\n",
      "Sentiment(polarity=0.4375, subjectivity=0.55)\n",
      "Use failures to your advantage! #SaturdayThoughts #WomenWhoCode https://t.co/kUUs5EIv62\n",
      "Sentiment(polarity=0.0, subjectivity=0.0)\n",
      "@kliithealth is hiring a Remote React Developer! Apply now → https://t.co/RzlgQ8hExM #react #developer #techjobs https://t.co/ThonZ0jDbk\n",
      "Sentiment(polarity=-0.125, subjectivity=0.2)\n",
      "for Upgrading Your Design from the Latest UX Designs Read more → https://t.co/csud49s3T9 #UXDesign #productdesigner\n",
      "Sentiment(polarity=0.5, subjectivity=0.7)\n",
      "Using your time in quarantine to keep your technical skills sharp? out our free webinars focused on technical content→ https://t.co/TXliU1QRUM #onlineevent #techresource #dev https://t.co/0tuK8Mo8IX\n",
      "Sentiment(polarity=0.06875, subjectivity=0.4375)\n",
      "for job in tech? We have150+ opportunities for all levels including remote jobs. See all jobs → https://t.co/JhEwQYyrdw #openroles #career #developer https://t.co/jpp8GMHXgp\n",
      "Sentiment(polarity=-0.1, subjectivity=0.2)\n",
      "You Want to Be a Senior Developer, Stop Focusing on Syntax Read more → https://t.co/5g7HvfYUgB #seniordeveloper #developer #techjob\n",
      "Sentiment(polarity=0.5, subjectivity=0.5)\n",
      "a #developer that needs a good laugh! https://t.co/5oQp5cjHAE\n",
      "Sentiment(polarity=0.5375, subjectivity=0.35000000000000003)\n",
      "@ModeAnalytics is hiring a VP of Engineering in SF! Apply now → https://t.co/oyG76IrqZF #engineering #openrole #executive https://t.co/mFupT0jE8O\n",
      "Sentiment(polarity=0.0, subjectivity=0.0)\n"
     ]
    },
    {
     "name": "stdout",
     "output_type": "stream",
     "text": [
      "#DYK we have 5 technical online learning communities featuring technical trainings, resources, and women in tech from all over the world? Join for free → https://t.co/hB1bi2YmXE #womenintech #developer #techresources https://t.co/OYrz37ybNh\n",
      "Sentiment(polarity=0.13333333333333333, subjectivity=0.3333333333333333)\n",
      "to Build Dynamic Breadcrumbs in #Laravel Read more → https://t.co/pVtCh6pZmD #developer #engineer\n",
      "Sentiment(polarity=0.25, subjectivity=0.3333333333333333)\n",
      "PEAK6 is hiring a Backend Engineer in Chicago! Apply now → https://t.co/Qjl9Cd7dz7 @WWCodeChicago #backend #engineer #nowhiring https://t.co/VsurJEr5wR\n",
      "Sentiment(polarity=0.0, subjectivity=0.0)\n",
      "Using your time in quarantine to keep your technical skills sharp? out our free webinars focused on technical content→ https://t.co/N0lRjWnQxI #onlineevent #techresource #dev https://t.co/UHJlByCMHs\n",
      "Sentiment(polarity=0.06875, subjectivity=0.4375)\n",
      "\"It just hasn't occurred to them that the male data won't suffice, and that male data doesn't represent human data.\" Read more → https://t.co/manubFzXET @Forbes #databias #womenwhocode\n",
      "Sentiment(polarity=0.125, subjectivity=0.2)\n",
      "Looking for a new skill to learn during quarantine? Sign up for the new 4-week program offered by @UiPath to learn how to build software robots! Enroll now → https://t.co/bAYkLcp4JT #RebootYourSkills #Robotics #Engineer https://t.co/2UApQnBmcz\n",
      "Sentiment(polarity=0.15340909090909088, subjectivity=0.45454545454545453)\n",
      "@jangalawifi is hiring a Software Engineering Lead in London! Apply now → https://t.co/YtEJb0nfax @WWCodeLondon #softwareengineer #leadengineer #nowhiring https://t.co/W6NMDp3GxB\n",
      "Sentiment(polarity=0.0, subjectivity=0.0)\n",
      "RT @blumareks: Happy Friday! Do you miss talking to other people? I do! I am doing a webinar for @WomenWhoCode @WomenWhoCodeSV on @IstioMes…\n",
      "Sentiment(polarity=0.421875, subjectivity=0.6875)\n",
      "Hopper was one of the first programmers of the Harvard Mark I computer and invented the first compiler for a computer programming language! #programmer #developer https://t.co/vU6YUdn6za\n",
      "Sentiment(polarity=0.28125, subjectivity=0.3333333333333333)\n",
      "to make a career change or find a new job? Submit your resume to be considered for top tech jobs → https://t.co/If3OwuANOx. #nowhiring #openrole #dev https://t.co/vReV98C2QO\n",
      "Sentiment(polarity=0.3181818181818182, subjectivity=0.4772727272727273)\n",
      "UX Design Integrates with Agile and Scrum Read more → https://t.co/RcC0cNvU2H #uxdesign #agile #scrum\n",
      "Sentiment(polarity=0.5, subjectivity=0.6666666666666666)\n",
      "@Pixar is hiring a Systems Engineer (Cloud Services) in Emeryville, CA! Apply now → https://t.co/hcq1FwbOCG #engineer #developer #techjobs https://t.co/1gQdPFpJCa\n",
      "Sentiment(polarity=0.0, subjectivity=0.0)\n",
      "We all need a little bit of humor right now. Tag someone that needs a good laugh! #engineer #codinghumor https://t.co/8UHUk2BiGK\n",
      "Sentiment(polarity=0.29330357142857144, subjectivity=0.43392857142857144)\n",
      "@integrate is hiring a Senior Software Engineer in Phoenix! Apply now → https://t.co/wR3xh2E74Q @WWCodePhoenix #softwareengineer #techjobs #openrole https://t.co/3914ONz6h8\n",
      "Sentiment(polarity=0.0, subjectivity=0.0)\n",
      "RT @wwcsf: Help your network by ordering a T-Shirt! Check out the Catalog for more networks and designs. https://t.co/AouzOE8HI8 @wwcsf @w…\n",
      "Sentiment(polarity=0.5, subjectivity=0.5)\n",
      "During times of uncertainty like these, use it as an opportunity to get comfortable with being uncomfortable! #ThursdayThoughts #WomeninTech https://t.co/z5P7dXqu0F\n",
      "Sentiment(polarity=-0.11249999999999999, subjectivity=0.9)\n",
      "free coding resources for all levels of developers. Check them out → https://t.co/av5JHdcZiY #codingresources #developer https://t.co/tGciAJZRYw\n",
      "Sentiment(polarity=0.4, subjectivity=0.8)\n",
      "\"With 78% of AI professionals being men, male experiences inform and dominate algorithm creation.\" Read more → https://t.co/RAbhqrAbRv #automation #genderbias #AI\n",
      "Sentiment(polarity=0.25, subjectivity=0.3)\n",
      "to hire a talented engineer for your open tech role? job board has 8K+ applicants and 1.6K companies! Post your job now → https://t.co/Lqfo88fwXP #nowhiring #engineer #openrole https://t.co/x46dUZ97ME\n",
      "Sentiment(polarity=0.35, subjectivity=0.7)\n",
      "equal pay a top workplace issue at your company? #equalpay #womenwhocode https://t.co/47MdDK2xjm\n",
      "Sentiment(polarity=0.25, subjectivity=0.375)\n",
      "Using your time in quarantine to keep your technical skills sharp? Check out our free webinars focused on technical content→ https://t.co/1Kx8CyyPZT #onlineevent #techresource #dev https://t.co/0RcnS5xBbA\n",
      "Sentiment(polarity=0.06875, subjectivity=0.4375)\n",
      "Advanced Tricks in Panda for Data Scientists Read more →https://t.co/jnRsWXuCED #datascience #panda\n",
      "Sentiment(polarity=0.45, subjectivity=0.55)\n",
      "We all need a little bit of humor right now. Tag someone that needs a good laugh! #codehumor #womenintech https://t.co/am29JqKBpW\n",
      "Sentiment(polarity=0.29330357142857144, subjectivity=0.43392857142857144)\n"
     ]
    }
   ],
   "source": [
    "for tweet in data['Tweet']:\n",
    "    print(tweet)\n",
    "    \n",
    "    analysis = TextBlob(tweet)\n",
    "    analysis = analysis.sentiment\n",
    "    print(analysis)\n",
    "    popularity = analysis.polarity\n",
    "    popularity_list.append(popularity)\n",
    "    num_list.append(num)\n",
    "    num = num + 1"
   ]
  },
  {
   "cell_type": "markdown",
   "metadata": {
    "slideshow": {
     "slide_type": "slide"
    }
   },
   "source": [
    "## Show Data\n",
    "* Matplotlib: is a Python 2D plotting library which produces publication quality figures in a variety of hardcopy formats and interactive environments across platforms.\n",
    "\n",
    "* WordCloud: This tool will be quite handy for exploring text data and making your report more lively."
   ]
  },
  {
   "cell_type": "code",
   "execution_count": 7,
   "metadata": {
    "slideshow": {
     "slide_type": "subslide"
    }
   },
   "outputs": [],
   "source": [
    "%matplotlib inline\n",
    "import matplotlib.pyplot as plt"
   ]
  },
  {
   "cell_type": "code",
   "execution_count": 9,
   "metadata": {
    "slideshow": {
     "slide_type": "subslide"
    }
   },
   "outputs": [
    {
     "data": {
      "image/png": "[encoded data removed]",
      "text/plain": [
       "<Figure size 1440x720 with 1 Axes>"
      ]
     },
     "metadata": {
      "needs_background": "light"
     },
     "output_type": "display_data"
    }
   ],
   "source": [
    "plt.figure(figsize=(20,10))\n",
    "plt.scatter(data['Day'], popularity_list)\n",
    "plt.title(\"Sentiments about WomenWhoCode in twitter\")\n",
    "plt.xlabel(\"Tweets\")\n",
    "plt.ylabel(\"Sentiment\")\n",
    "plt.show()"
   ]
  },
  {
   "cell_type": "code",
   "execution_count": 10,
   "metadata": {
    "slideshow": {
     "slide_type": "subslide"
    }
   },
   "outputs": [
    {
     "data": {
      "image/png": "[encoded data removed]",
      "text/plain": [
       "<Figure size 432x288 with 1 Axes>"
      ]
     },
     "metadata": {
      "needs_background": "light"
     },
     "output_type": "display_data"
    }
   ],
   "source": [
    "from wordcloud import WordCloud\n",
    "\n",
    "# Create and generate a word cloud image:\n",
    "wordcloud = WordCloud(background_color=\"white\", colormap=\"Dark2\",\n",
    "               max_font_size=150, random_state=42).generate(text_tweet)\n",
    "\n",
    "# Display the generated image:\n",
    "plt.imshow(wordcloud, interpolation='bilinear')\n",
    "plt.axis(\"off\")\n",
    "plt.title(\"WWCode DataPY2019\")\n",
    "plt.show()"
   ]
  },
  {
   "cell_type": "markdown",
   "metadata": {
    "slideshow": {
     "slide_type": "slide"
    }
   },
   "source": [
    "## Use cases of Sentimental Analysis\n",
    "* Brand monitoring\n",
    "* Competitive research\n",
    "* Flame detection and customer service prioritization\n",
    "* Product analysis\n",
    "* Market research and insights into industry trends\n",
    "* Workforce analytics/employee engagement monitoring"
   ]
  }
 ],
 "metadata": {
  "celltoolbar": "Slideshow",
  "kernelspec": {
   "display_name": "Python 3",
   "language": "python",
   "name": "python3"
  },
  "language_info": {
   "codemirror_mode": {
    "name": "ipython",
    "version": 3
   },
   "file_extension": ".py",
   "mimetype": "text/x-python",
   "name": "python",
   "nbconvert_exporter": "python",
   "pygments_lexer": "ipython3",
   "version": "3.7.4"
  }
 },
 "nbformat": 4,
 "nbformat_minor": 2
}
